{
 "cells": [
  {
   "cell_type": "code",
   "execution_count": null,
   "metadata": {},
   "outputs": [],
   "source": [
    "import tensorflow as tf\n",
    "import musdb\n",
    "import numpy as np\n",
    "import functools\n",
    "import matplotlib.pyplot as plt\n",
    "#tf.enable_eager_execution()"
   ]
  },
  {
   "cell_type": "code",
   "execution_count": null,
   "metadata": {},
   "outputs": [],
   "source": [
    "db = musdb.DB('/Users/igor/src/ml/mss/data/musdb18')\n",
    "track = db.load_mus_tracks()[0]\n",
    "\n",
    "# cast to float32 and tensor\n",
    "x = tf.transpose(tf.convert_to_tensor(track.audio.astype(np.float32)))[0]\n",
    "y = tf.transpose(tf.convert_to_tensor(track.stems[0].astype(np.float32)))[0]"
   ]
  },
  {
   "cell_type": "code",
   "execution_count": null,
   "metadata": {},
   "outputs": [],
   "source": [
    "# do STFT\n",
    "frame_length = 1024\n",
    "frame_step = 512\n",
    "fft_length = 1024\n",
    "x_stfts = tf.signal.stft(x, \n",
    "    frame_length=frame_length, \n",
    "    frame_step=frame_step,\n",
    "    fft_length=fft_length)\n",
    "y_stfts = tf.signal.stft(y, \n",
    "    frame_length=frame_length, \n",
    "    frame_step=frame_step,\n",
    "    fft_length=fft_length)\n"
   ]
  },
  {
   "cell_type": "code",
   "execution_count": null,
   "metadata": {
    "scrolled": true
   },
   "outputs": [],
   "source": [
    "from keras.models import Sequential\n",
    "from keras.layers import Flatten, Dense\n",
    "\n",
    "model = Sequential()\n",
    "samples = int(track.duration * track.rate / frame_step) - 1\n",
    "num_layers = 3\n",
    "layer_size = 32\n",
    "\n",
    "#model.add(Flatten(input_shape=(frame_step+1,)))\n",
    "model.add(Dense(layer_size, input_shape=(frame_step+1,), activation='relu'))\n",
    "\n",
    "\n",
    "for _ in range(num_layers-2):\n",
    "    model.add(Dense(layer_size, activation='relu'))\n",
    "#    model.add(Dropout(dropout_amount))\n",
    "model.add(Dense(frame_step + 1, activation='softmax'))\n",
    "# Your code above (Lab 1)\n",
    "model.compile('adam', 'mean_squared_error') \n",
    "\n",
    "\n",
    "model.fit(x_stfts, y_stfts, steps_per_epoch=16, verbose = 1)\n",
    "\n",
    "#x_stfts\n",
    "#y_pred_stfts = model.predict(stfts)\n",
    "model.evaluate(x_stfts, y_stfts)\n"
   ]
  },
  {
   "cell_type": "code",
   "execution_count": null,
   "metadata": {},
   "outputs": [],
   "source": []
  },
  {
   "cell_type": "code",
   "execution_count": null,
   "metadata": {},
   "outputs": [],
   "source": []
  },
  {
   "cell_type": "code",
   "execution_count": null,
   "metadata": {},
   "outputs": [],
   "source": []
  },
  {
   "cell_type": "code",
   "execution_count": null,
   "metadata": {},
   "outputs": [],
   "source": []
  }
 ],
 "metadata": {
  "kernelspec": {
   "display_name": "Python 3",
   "language": "python",
   "name": "python3"
  },
  "language_info": {
   "codemirror_mode": {
    "name": "ipython",
    "version": 3
   },
   "file_extension": ".py",
   "mimetype": "text/x-python",
   "name": "python",
   "nbconvert_exporter": "python",
   "pygments_lexer": "ipython3",
   "version": "3.7.3"
  }
 },
 "nbformat": 4,
 "nbformat_minor": 2
}
