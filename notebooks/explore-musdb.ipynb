{
 "cells": [
  {
   "cell_type": "code",
   "execution_count": 10,
   "metadata": {
    "collapsed": true
   },
   "outputs": [
    {
     "name": "stdout",
     "output_type": "stream",
     "text": [
      "A Classic Education - NightOwl\n",
      "ANiMAL - Clinic A\n",
      "ANiMAL - Easy Tiger\n",
      "ANiMAL - Rockshow\n",
      "Actions - Devil's Words\n",
      "Actions - One Minute Smile\n",
      "Actions - South Of The Water\n",
      "Aimee Norwich - Child\n",
      "Alexander Ross - Goodbye Bolero\n",
      "Alexander Ross - Velvet Curtain\n",
      "Angela Thomas Wade - Milk Cow Blues\n",
      "Atlantis Bound - It Was My Fault For Waiting\n",
      "Auctioneer - Our Future Faces\n",
      "AvaLuna - Waterduct\n",
      "BigTroubles - Phantom\n",
      "Bill Chudziak - Children Of No-one\n",
      "Black Bloc - If You Want Success\n",
      "Celestial Shore - Die For Us\n",
      "Chris Durban - Celebrate\n",
      "Clara Berry And Wooldog - Air Traffic\n",
      "Clara Berry And Wooldog - Stella\n",
      "Clara Berry And Wooldog - Waltz For My Victims\n",
      "Cnoc An Tursa - Bannockburn\n",
      "Creepoid - OldTree\n",
      "Dark Ride - Burning Bridges\n",
      "Dreamers Of The Ghetto - Heavy Love\n",
      "Drumtracks - Ghost Bitch\n",
      "Faces On Film - Waiting For Ga\n",
      "Fergessen - Back From The Start\n",
      "Fergessen - Nos Palpitants\n",
      "Fergessen - The Wind\n",
      "Flags - 54\n",
      "Giselle - Moss\n",
      "Grants - PunchDrunk\n",
      "Helado Negro - Mitad Del Mundo\n",
      "Hezekiah Jones - Borrowed Heart\n",
      "Hollow Ground - Left Blind\n",
      "Hop Along - Sister Cities\n",
      "Invisible Familiars - Disturbing Wildlife\n",
      "James May - All Souls Moon\n",
      "James May - Dont Let Go\n",
      "James May - If You Say\n",
      "James May - On The Line\n",
      "Jay Menon - Through My Eyes\n",
      "Johnny Lokke - Promises & Lies\n",
      "Johnny Lokke - Whisper To A Scream\n",
      "Jokers, Jacks & Kings - Sea Of Leaves\n",
      "Leaf - Come Around\n",
      "Leaf - Summerghost\n",
      "Leaf - Wicked\n",
      "Lushlife - Toynbee Suite\n",
      "Matthew Entwistle - Dont You Ever\n",
      "Meaxic - Take A Step\n",
      "Meaxic - You Listen\n",
      "Music Delta - 80s Rock\n",
      "Music Delta - Beatles\n",
      "Music Delta - Britpop\n",
      "Music Delta - Country1\n",
      "Music Delta - Country2\n",
      "Music Delta - Disco\n",
      "Music Delta - Gospel\n",
      "Music Delta - Grunge\n",
      "Music Delta - Hendrix\n",
      "Music Delta - Punk\n",
      "Music Delta - Reggae\n",
      "Music Delta - Rock\n",
      "Music Delta - Rockabilly\n",
      "Night Panther - Fire\n",
      "North To Alaska - All The Same\n",
      "Patrick Talbot - A Reason To Leave\n",
      "Patrick Talbot - Set Me Free\n",
      "Phre The Eon - Everybody's Falling Apart\n",
      "Port St Willow - Stay Even\n",
      "Remember December - C U Next Time\n",
      "Secret Mountains - High Horse\n",
      "Skelpolu - Human Mistakes\n",
      "Skelpolu - Together Alone\n",
      "Snowmine - Curfews\n",
      "Spike Mullings - Mike's Sulking\n",
      "St Vitus - Word Gets Around\n",
      "Steven Clark - Bounty\n",
      "Strand Of Oaks - Spacestation\n",
      "Sweet Lights - You Let Me Down\n",
      "Swinging Steaks - Lost My Way\n",
      "The Districts - Vermont\n",
      "The Long Wait - Back Home To Blue\n",
      "The Scarlet Brand - Les Fleurs Du Mal\n",
      "The So So Glos - Emergency\n",
      "The Wrong'Uns - Rothko\n",
      "Tim Taler - Stalker\n",
      "Titanium - Haunted Age\n",
      "Traffic Experiment - Once More (With Feeling)\n",
      "Traffic Experiment - Sirens\n",
      "Triviul - Angelsaint\n",
      "Triviul - Dorothy\n",
      "Voelund - Comfort Lives In Belief\n",
      "Wall Of Death - Femme\n",
      "Young Griffo - Blood To Bone\n",
      "Young Griffo - Facade\n",
      "Young Griffo - Pennies\n"
     ]
    }
   ],
   "source": [
    "import musdb\n",
    "db = musdb.DB('/Users/igor/Desktop/musdb18')\n",
    "tracks = db.load_mus_tracks(subsets=['train'])\n",
    "for track in tracks:\n",
    "  print(track.name)"
   ]
  },
  {
   "cell_type": "code",
   "execution_count": 16,
   "metadata": {},
   "outputs": [
    {
     "data": {
      "text/plain": [
       "array([[[ 1.47705078e-02,  3.02124023e-03],\n",
       "        [ 3.26538086e-02,  1.63879395e-02],\n",
       "        [ 5.39550781e-02,  3.79028320e-02],\n",
       "        ...,\n",
       "        [ 0.00000000e+00,  0.00000000e+00],\n",
       "        [ 3.05175781e-05,  0.00000000e+00],\n",
       "        [ 0.00000000e+00,  0.00000000e+00]],\n",
       "\n",
       "       [[ 1.37329102e-03,  1.22070312e-03],\n",
       "        [ 2.83813477e-03,  2.22778320e-03],\n",
       "        [ 2.65502930e-03,  2.34985352e-03],\n",
       "        ...,\n",
       "        [ 0.00000000e+00,  0.00000000e+00],\n",
       "        [ 0.00000000e+00,  0.00000000e+00],\n",
       "        [ 0.00000000e+00,  0.00000000e+00]],\n",
       "\n",
       "       [[-4.27246094e-04, -3.66210938e-04],\n",
       "        [ 8.23974609e-04,  8.23974609e-04],\n",
       "        [ 2.04467773e-03,  2.01416016e-03],\n",
       "        ...,\n",
       "        [ 0.00000000e+00,  0.00000000e+00],\n",
       "        [ 0.00000000e+00,  0.00000000e+00],\n",
       "        [ 0.00000000e+00,  0.00000000e+00]],\n",
       "\n",
       "       [[-2.31933594e-03, -6.16455078e-03],\n",
       "        [ 4.15039062e-03, -4.24194336e-03],\n",
       "        [ 1.19934082e-02, -6.40869141e-04],\n",
       "        ...,\n",
       "        [ 0.00000000e+00,  0.00000000e+00],\n",
       "        [ 0.00000000e+00,  0.00000000e+00],\n",
       "        [ 0.00000000e+00,  0.00000000e+00]],\n",
       "\n",
       "       [[ 1.60827637e-02,  8.08715820e-03],\n",
       "        [ 2.47497559e-02,  1.70288086e-02],\n",
       "        [ 3.64379883e-02,  3.37524414e-02],\n",
       "        ...,\n",
       "        [ 0.00000000e+00,  0.00000000e+00],\n",
       "        [ 0.00000000e+00,  0.00000000e+00],\n",
       "        [ 0.00000000e+00,  0.00000000e+00]]])"
      ]
     },
     "execution_count": 16,
     "metadata": {},
     "output_type": "execute_result"
    }
   ],
   "source": [
    "tracks[0].stems\n"
   ]
  },
  {
   "cell_type": "code",
   "execution_count": null,
   "metadata": {},
   "outputs": [],
   "source": []
  },
  {
   "cell_type": "code",
   "execution_count": null,
   "metadata": {},
   "outputs": [],
   "source": []
  },
  {
   "cell_type": "code",
   "execution_count": null,
   "metadata": {},
   "outputs": [],
   "source": []
  },
  {
   "cell_type": "code",
   "execution_count": 9,
   "metadata": {},
   "outputs": [],
   "source": []
  },
  {
   "cell_type": "code",
   "execution_count": null,
   "metadata": {},
   "outputs": [],
   "source": []
  },
  {
   "cell_type": "code",
   "execution_count": null,
   "metadata": {},
   "outputs": [],
   "source": []
  }
 ],
 "metadata": {
  "kernelspec": {
   "display_name": "Python 3",
   "language": "python",
   "name": "python3"
  },
  "language_info": {
   "codemirror_mode": {
    "name": "ipython",
    "version": 3
   },
   "file_extension": ".py",
   "mimetype": "text/x-python",
   "name": "python",
   "nbconvert_exporter": "python",
   "pygments_lexer": "ipython3",
   "version": "3.7.3"
  }
 },
 "nbformat": 4,
 "nbformat_minor": 2
}
